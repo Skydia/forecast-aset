{
 "cells": [
  {
   "cell_type": "code",
   "execution_count": 48,
   "metadata": {
    "ExecuteTime": {
     "end_time": "2020-12-02T06:31:00.455024Z",
     "start_time": "2020-12-02T06:30:59.262566Z"
    }
   },
   "outputs": [
    {
     "name": "stdout",
     "output_type": "stream",
     "text": [
      "[*********************100%***********************]  1 of 1 completed\n"
     ]
    },
    {
     "data": {
      "text/html": [
       "<div>\n",
       "<style scoped>\n",
       "    .dataframe tbody tr th:only-of-type {\n",
       "        vertical-align: middle;\n",
       "    }\n",
       "\n",
       "    .dataframe tbody tr th {\n",
       "        vertical-align: top;\n",
       "    }\n",
       "\n",
       "    .dataframe thead th {\n",
       "        text-align: right;\n",
       "    }\n",
       "</style>\n",
       "<table border=\"1\" class=\"dataframe\">\n",
       "  <thead>\n",
       "    <tr style=\"text-align: right;\">\n",
       "      <th></th>\n",
       "      <th>Date</th>\n",
       "      <th>Close</th>\n",
       "    </tr>\n",
       "  </thead>\n",
       "  <tbody>\n",
       "    <tr>\n",
       "      <th>0</th>\n",
       "      <td>2015-12-31</td>\n",
       "      <td>13845.0</td>\n",
       "    </tr>\n",
       "    <tr>\n",
       "      <th>1</th>\n",
       "      <td>2016-01-01</td>\n",
       "      <td>13775.0</td>\n",
       "    </tr>\n",
       "    <tr>\n",
       "      <th>2</th>\n",
       "      <td>2016-01-04</td>\n",
       "      <td>13775.0</td>\n",
       "    </tr>\n",
       "    <tr>\n",
       "      <th>3</th>\n",
       "      <td>2016-01-05</td>\n",
       "      <td>13957.0</td>\n",
       "    </tr>\n",
       "    <tr>\n",
       "      <th>4</th>\n",
       "      <td>2016-01-06</td>\n",
       "      <td>13805.0</td>\n",
       "    </tr>\n",
       "  </tbody>\n",
       "</table>\n",
       "</div>"
      ],
      "text/plain": [
       "        Date    Close\n",
       "0 2015-12-31  13845.0\n",
       "1 2016-01-01  13775.0\n",
       "2 2016-01-04  13775.0\n",
       "3 2016-01-05  13957.0\n",
       "4 2016-01-06  13805.0"
      ]
     },
     "execution_count": 48,
     "metadata": {},
     "output_type": "execute_result"
    }
   ],
   "source": [
    "from datetime import datetime\n",
    "import pandas as pd\n",
    "import numpy as np\n",
    "import yfinance as yf\n",
    "\n",
    "df = yf.download('USDIDR=X', start=\"2016-01-01\", end=datetime.today().strftime('%Y-%m-%d'))\n",
    "df = df.reset_index()[['Date','Close']]\n",
    "df.head()"
   ]
  },
  {
   "cell_type": "code",
   "execution_count": 18,
   "metadata": {
    "ExecuteTime": {
     "end_time": "2020-12-02T04:32:20.697429Z",
     "start_time": "2020-12-02T04:32:20.689451Z"
    }
   },
   "outputs": [],
   "source": [
    "## Datetime conversion\n",
    "df['Date'] = pd.to_datetime(df.Date)\n",
    "\n",
    "# Setting the index\n",
    "df.set_index('Date', inplace=True)\n",
    "# Dropping any NaNs\n",
    "df.dropna(inplace=True)"
   ]
  },
  {
   "cell_type": "code",
   "execution_count": 19,
   "metadata": {
    "ExecuteTime": {
     "end_time": "2020-12-02T04:32:20.853230Z",
     "start_time": "2020-12-02T04:32:20.843256Z"
    }
   },
   "outputs": [
    {
     "data": {
      "text/plain": [
       "RobustScaler()"
      ]
     },
     "execution_count": 19,
     "metadata": {},
     "output_type": "execute_result"
    }
   ],
   "source": [
    "from sklearn.preprocessing import RobustScaler\n",
    "close_scaler = RobustScaler()\n",
    "\n",
    "close_scaler.fit(df[['Close']])"
   ]
  },
  {
   "cell_type": "code",
   "execution_count": 20,
   "metadata": {
    "ExecuteTime": {
     "end_time": "2020-12-02T04:32:21.066694Z",
     "start_time": "2020-12-02T04:32:21.053729Z"
    }
   },
   "outputs": [
    {
     "data": {
      "text/html": [
       "<div>\n",
       "<style scoped>\n",
       "    .dataframe tbody tr th:only-of-type {\n",
       "        vertical-align: middle;\n",
       "    }\n",
       "\n",
       "    .dataframe tbody tr th {\n",
       "        vertical-align: top;\n",
       "    }\n",
       "\n",
       "    .dataframe thead th {\n",
       "        text-align: right;\n",
       "    }\n",
       "</style>\n",
       "<table border=\"1\" class=\"dataframe\">\n",
       "  <thead>\n",
       "    <tr style=\"text-align: right;\">\n",
       "      <th></th>\n",
       "      <th>Close</th>\n",
       "    </tr>\n",
       "    <tr>\n",
       "      <th>Date</th>\n",
       "      <th></th>\n",
       "    </tr>\n",
       "  </thead>\n",
       "  <tbody>\n",
       "    <tr>\n",
       "      <th>2020-11-18</th>\n",
       "      <td>0.163518</td>\n",
       "    </tr>\n",
       "    <tr>\n",
       "      <th>2020-11-19</th>\n",
       "      <td>0.251874</td>\n",
       "    </tr>\n",
       "    <tr>\n",
       "      <th>2020-11-20</th>\n",
       "      <td>0.336008</td>\n",
       "    </tr>\n",
       "    <tr>\n",
       "      <th>2020-11-23</th>\n",
       "      <td>0.294944</td>\n",
       "    </tr>\n",
       "    <tr>\n",
       "      <th>2020-11-24</th>\n",
       "      <td>0.309300</td>\n",
       "    </tr>\n",
       "    <tr>\n",
       "      <th>2020-11-25</th>\n",
       "      <td>0.264119</td>\n",
       "    </tr>\n",
       "    <tr>\n",
       "      <th>2020-11-26</th>\n",
       "      <td>0.270137</td>\n",
       "    </tr>\n",
       "    <tr>\n",
       "      <th>2020-11-27</th>\n",
       "      <td>0.027553</td>\n",
       "    </tr>\n",
       "    <tr>\n",
       "      <th>2020-11-30</th>\n",
       "      <td>0.200570</td>\n",
       "    </tr>\n",
       "    <tr>\n",
       "      <th>2020-12-01</th>\n",
       "      <td>0.235723</td>\n",
       "    </tr>\n",
       "  </tbody>\n",
       "</table>\n",
       "</div>"
      ],
      "text/plain": [
       "               Close\n",
       "Date                \n",
       "2020-11-18  0.163518\n",
       "2020-11-19  0.251874\n",
       "2020-11-20  0.336008\n",
       "2020-11-23  0.294944\n",
       "2020-11-24  0.309300\n",
       "2020-11-25  0.264119\n",
       "2020-11-26  0.270137\n",
       "2020-11-27  0.027553\n",
       "2020-11-30  0.200570\n",
       "2020-12-01  0.235723"
      ]
     },
     "execution_count": 20,
     "metadata": {},
     "output_type": "execute_result"
    }
   ],
   "source": [
    "scaler = RobustScaler()\n",
    "df = pd.DataFrame(scaler.fit_transform(df), columns=df.columns, index=df.index)\n",
    "\n",
    "df.tail(10)"
   ]
  },
  {
   "cell_type": "code",
   "execution_count": 21,
   "metadata": {
    "ExecuteTime": {
     "end_time": "2020-12-02T04:32:21.648484Z",
     "start_time": "2020-12-02T04:32:21.274812Z"
    }
   },
   "outputs": [
    {
     "data": {
      "image/png": "[encoded data removed]",
      "text/plain": [
       "<Figure size 1152x360 with 1 Axes>"
      ]
     },
     "metadata": {
      "needs_background": "light"
     },
     "output_type": "display_data"
    }
   ],
   "source": [
    "import matplotlib.pyplot as plt\n",
    "# Plotting the Closing Prices\n",
    "df['Close'].plot(figsize=(16,5))\n",
    "plt.title(\"Closing Prices\")\n",
    "plt.ylabel(\"Price (Scaled)\")\n",
    "plt.show()"
   ]
  },
  {
   "cell_type": "code",
   "execution_count": 22,
   "metadata": {
    "ExecuteTime": {
     "end_time": "2020-12-02T04:32:21.723623Z",
     "start_time": "2020-12-02T04:32:21.718637Z"
    }
   },
   "outputs": [],
   "source": [
    "def split_sequence(seq, n_steps_in, n_steps_out):\n",
    "    \"\"\"\n",
    "    Splits the multivariate time sequence\n",
    "    \"\"\"\n",
    "    \n",
    "    # Creating a list for both variables\n",
    "    X, y = [], []\n",
    "    \n",
    "    for i in range(len(seq)):\n",
    "        \n",
    "        # Finding the end of the current sequence\n",
    "        end = i + n_steps_in\n",
    "        out_end = end + n_steps_out\n",
    "        \n",
    "        # Breaking out of the loop if we have exceeded the dataset's length\n",
    "        if out_end > len(seq):\n",
    "            break\n",
    "        \n",
    "        # Splitting the sequences into: x = past prices and indicators, y = prices ahead\n",
    "        seq_x, seq_y = seq[i:end, :], seq[end:out_end, 0]\n",
    "        \n",
    "        X.append(seq_x)\n",
    "        y.append(seq_y)\n",
    "    \n",
    "    return np.array(X), np.array(y)"
   ]
  },
  {
   "cell_type": "code",
   "execution_count": 23,
   "metadata": {
    "ExecuteTime": {
     "end_time": "2020-12-02T04:32:21.975966Z",
     "start_time": "2020-12-02T04:32:21.926100Z"
    }
   },
   "outputs": [],
   "source": [
    "def visualize_training_results(results):\n",
    "    \"\"\"\n",
    "    Plots the loss and accuracy for the training and testing data\n",
    "    \"\"\"\n",
    "    history = results.history\n",
    "    plt.figure(figsize=(16,5))\n",
    "    plt.plot(history['val_loss'])\n",
    "    plt.plot(history['loss'])\n",
    "    plt.legend(['val_loss', 'loss'])\n",
    "    plt.title('Loss')\n",
    "    plt.xlabel('Epochs')\n",
    "    plt.ylabel('Loss')\n",
    "    plt.show()\n",
    "    \n",
    "    plt.figure(figsize=(16,5))\n",
    "    plt.plot(history['val_accuracy'])\n",
    "    plt.plot(history['accuracy'])\n",
    "    plt.legend(['val_accuracy', 'accuracy'])\n",
    "    plt.title('Accuracy')\n",
    "    plt.xlabel('Epochs')\n",
    "    plt.ylabel('Accuracy')\n",
    "    plt.show()"
   ]
  },
  {
   "cell_type": "code",
   "execution_count": 24,
   "metadata": {
    "ExecuteTime": {
     "end_time": "2020-12-02T04:32:22.312963Z",
     "start_time": "2020-12-02T04:32:22.308975Z"
    }
   },
   "outputs": [],
   "source": [
    "def layer_maker(n_layers, n_nodes, activation, drop=None, d_rate=.5):\n",
    "    \"\"\"\n",
    "    Creates a specified number of hidden layers for an RNN\n",
    "    Optional: Adds regularization option - the dropout layer to prevent potential overfitting (if necessary)\n",
    "    \"\"\"\n",
    "    \n",
    "    # Creating the specified number of hidden layers with the specified number of nodes\n",
    "    for x in range(1,n_layers+1):\n",
    "        model.add(LSTM(n_nodes, activation=activation, return_sequences=True))\n",
    "\n",
    "        # Adds a Dropout layer after every Nth hidden layer (the 'drop' variable)\n",
    "        try:\n",
    "            if x % drop == 0:\n",
    "                model.add(Dropout(d_rate))\n",
    "        except:\n",
    "            pass"
   ]
  },
  {
   "cell_type": "code",
   "execution_count": 25,
   "metadata": {
    "ExecuteTime": {
     "end_time": "2020-12-02T04:32:22.784236Z",
     "start_time": "2020-12-02T04:32:22.778252Z"
    }
   },
   "outputs": [],
   "source": [
    "def validater(n_per_in, n_per_out):\n",
    "    \"\"\"\n",
    "    Runs a 'For' loop to iterate through the length of the DF and create predicted values for every stated interval\n",
    "    Returns a DF containing the predicted values for the model with the corresponding index values based on a business day frequency\n",
    "    \"\"\"\n",
    "    \n",
    "    # Creating an empty DF to store the predictions\n",
    "    predictions = pd.DataFrame(index=df.index, columns=[df.columns[0]])\n",
    "\n",
    "    for i in range(n_per_in, len(df)-n_per_in, n_per_out):\n",
    "        # Creating rolling intervals to predict off of\n",
    "        x = df[-i - n_per_in:-i]\n",
    "\n",
    "        # Predicting using rolling intervals\n",
    "        yhat = model.predict(np.array(x).reshape(1, n_per_in, n_features))\n",
    "\n",
    "        # Transforming values back to their normal prices\n",
    "        yhat = close_scaler.inverse_transform(yhat)[0]\n",
    "\n",
    "        # DF to store the values and append later, frequency uses business days\n",
    "        pred_df = pd.DataFrame(yhat, \n",
    "                               index=pd.date_range(start=x.index[-1], \n",
    "                                                   periods=len(yhat), \n",
    "                                                   freq=\"B\"),\n",
    "                               columns=[x.columns[0]])\n",
    "\n",
    "        # Updating the predictions DF\n",
    "        predictions.update(pred_df)\n",
    "        \n",
    "    return predictions"
   ]
  },
  {
   "cell_type": "code",
   "execution_count": 26,
   "metadata": {
    "ExecuteTime": {
     "end_time": "2020-12-02T04:32:23.293895Z",
     "start_time": "2020-12-02T04:32:23.287881Z"
    }
   },
   "outputs": [],
   "source": [
    "# How many periods looking back to learn\n",
    "n_per_in  = 60\n",
    "# How many periods to predict\n",
    "n_per_out = 30\n",
    "# Features \n",
    "n_features = df.shape[1]\n",
    "# Splitting the data into appropriate sequences\n",
    "X, y = split_sequence(df.to_numpy(), n_per_in, n_per_out)"
   ]
  },
  {
   "cell_type": "code",
   "execution_count": 27,
   "metadata": {
    "ExecuteTime": {
     "end_time": "2020-12-02T04:32:25.177164Z",
     "start_time": "2020-12-02T04:32:24.382760Z"
    }
   },
   "outputs": [
    {
     "name": "stdout",
     "output_type": "stream",
     "text": [
      "Model: \"sequential\"\n",
      "_________________________________________________________________\n",
      "Layer (type)                 Output Shape              Param #   \n",
      "=================================================================\n",
      "lstm (LSTM)                  (None, 60, 90)            33120     \n",
      "_________________________________________________________________\n",
      "lstm_1 (LSTM)                (None, 60, 30)            14520     \n",
      "_________________________________________________________________\n",
      "lstm_2 (LSTM)                (None, 60)                21840     \n",
      "_________________________________________________________________\n",
      "dense (Dense)                (None, 30)                1830      \n",
      "=================================================================\n",
      "Total params: 71,310\n",
      "Trainable params: 71,310\n",
      "Non-trainable params: 0\n",
      "_________________________________________________________________\n"
     ]
    }
   ],
   "source": [
    "from tensorflow.keras.models import Sequential\n",
    "from tensorflow.keras.layers import LSTM,Dense,Dropout\n",
    "from tensorflow.keras.callbacks import ModelCheckpoint\n",
    "from tensorflow.keras.callbacks import EarlyStopping\n",
    "\n",
    "# Instatiating the model\n",
    "model = Sequential()\n",
    "\n",
    "# Activation\n",
    "activ = \"tanh\"\n",
    "\n",
    "# Input layer\n",
    "model.add(LSTM(90, \n",
    "               activation=activ, \n",
    "               return_sequences=True, \n",
    "               input_shape=(n_per_in, n_features)))\n",
    "\n",
    "# Hidden layers\n",
    "layer_maker(n_layers=1, \n",
    "            n_nodes=30, \n",
    "            activation=activ)\n",
    "\n",
    "# Final Hidden layer\n",
    "model.add(LSTM(60, activation=activ))\n",
    "\n",
    "# Output layer\n",
    "model.add(Dense(n_per_out))\n",
    "\n",
    "# Model summary\n",
    "model.summary()\n",
    "\n",
    "# Compiling the data with selected specifications\n",
    "model.compile(optimizer='adam', loss='mse', metrics=['accuracy'])\n",
    "\n",
    "\n",
    "checkpoint_path = \"model_cp/\"\n",
    "cp_callback = ModelCheckpoint(filepath=checkpoint_path,\n",
    "                              monitor='val_loss', \n",
    "                              verbose=1, \n",
    "                              save_best_only=True,\n",
    "                              save_weights_only=False)\n",
    "\n",
    "early_stopping = EarlyStopping(\n",
    "    monitor='val_loss', # akurasi yang dipantau\n",
    "    patience=5, # jumlah epoch apabila tidak ada perubahan\n",
    "    verbose=1, \n",
    "    mode='auto',\n",
    "    baseline=None, \n",
    ")"
   ]
  },
  {
   "cell_type": "code",
   "execution_count": 34,
   "metadata": {
    "ExecuteTime": {
     "end_time": "2020-12-02T04:39:46.185311Z",
     "start_time": "2020-12-02T04:39:46.180294Z"
    }
   },
   "outputs": [
    {
     "data": {
      "text/plain": [
       "(1192, 60, 1)"
      ]
     },
     "execution_count": 34,
     "metadata": {},
     "output_type": "execute_result"
    }
   ],
   "source": [
    "X.shape"
   ]
  },
  {
   "cell_type": "code",
   "execution_count": 35,
   "metadata": {
    "ExecuteTime": {
     "end_time": "2020-12-02T04:39:49.864970Z",
     "start_time": "2020-12-02T04:39:49.859983Z"
    }
   },
   "outputs": [
    {
     "data": {
      "text/plain": [
       "(1192, 30)"
      ]
     },
     "execution_count": 35,
     "metadata": {},
     "output_type": "execute_result"
    }
   ],
   "source": [
    "y.shape"
   ]
  },
  {
   "cell_type": "code",
   "execution_count": null,
   "metadata": {
    "ExecuteTime": {
     "end_time": "2020-12-02T04:21:57.203865Z",
     "start_time": "2020-12-02T04:21:30.118793Z"
    }
   },
   "outputs": [],
   "source": [
    "## Fitting and Training\n",
    "res = model.fit(X, y, epochs=20, batch_size=32, validation_split=0.1, callbacks=[cp_callback,\n",
    "                                                                                 early_stopping])"
   ]
  },
  {
   "cell_type": "code",
   "execution_count": null,
   "metadata": {
    "ExecuteTime": {
     "end_time": "2020-12-02T04:21:08.211117Z",
     "start_time": "2020-12-02T04:20:46.000Z"
    }
   },
   "outputs": [],
   "source": [
    "visualize_training_results(res)"
   ]
  },
  {
   "cell_type": "code",
   "execution_count": null,
   "metadata": {
    "ExecuteTime": {
     "end_time": "2020-12-02T04:21:08.256503Z",
     "start_time": "2020-12-02T04:20:47.012Z"
    }
   },
   "outputs": [],
   "source": [
    "# Transforming the actual values to their original price\n",
    "actual = pd.DataFrame(close_scaler.inverse_transform(df[[\"Close\"]]), \n",
    "                      index=df.index, \n",
    "                      columns=[df.columns[0]])\n",
    "\n",
    "# Getting a DF of the predicted values to validate against\n",
    "predictions = validater(n_per_in, n_per_out)\n",
    "    \n",
    "# Plotting\n",
    "plt.figure(figsize=(16,6))\n",
    "\n",
    "# Plotting those predictions\n",
    "plt.plot(predictions, label='Predicted')\n",
    "\n",
    "# Plotting the actual values\n",
    "plt.plot(actual, label='Actual')\n",
    "\n",
    "plt.title(f\"Predicted vs Actual Closing Prices\")\n",
    "plt.ylabel(\"Price\")\n",
    "plt.legend()\n",
    "plt.show()"
   ]
  },
  {
   "cell_type": "code",
   "execution_count": null,
   "metadata": {
    "ExecuteTime": {
     "end_time": "2020-12-02T04:21:08.264482Z",
     "start_time": "2020-12-02T04:20:58.172Z"
    }
   },
   "outputs": [],
   "source": [
    "from datetime import timedelta\n",
    "\n",
    "# Predicting off of the most recent days from the original DF\n",
    "yhat = model.predict(np.array(df.tail(n_per_in)).reshape(1, n_per_in, n_features))\n",
    "\n",
    "# Transforming the predicted values back to their original format\n",
    "yhat = close_scaler.inverse_transform(yhat)[0]\n",
    "\n",
    "# Creating a DF of the predicted prices\n",
    "preds = pd.DataFrame(yhat, \n",
    "                     index=pd.date_range(start=df.index[-1]+timedelta(days=1), \n",
    "                                         periods=len(yhat), \n",
    "                                         freq=\"B\"), \n",
    "                     columns=[df.columns[0]])\n",
    "\n",
    "# Number of periods back to plot the actual values\n",
    "pers = n_per_in\n",
    "\n",
    "# Transforming the actual values to their original price\n",
    "actual = pd.DataFrame(close_scaler.inverse_transform(df[[\"Close\"]].tail(pers)), \n",
    "                      index=df.Close.tail(pers).index, \n",
    "                      columns=[df.columns[0]]).append(preds.head(1))\n",
    "\n",
    "# Plotting\n",
    "plt.figure(figsize=(16,6))\n",
    "plt.plot(actual, label=\"Actual Prices\")\n",
    "plt.plot(preds, label=\"Predicted Prices\")\n",
    "plt.ylabel(\"Price\")\n",
    "plt.xlabel(\"Dates\")\n",
    "plt.title(f\"Forecasting the next {len(yhat)} days\")\n",
    "plt.legend()\n",
    "plt.show()\n",
    "\n",
    "#return preds"
   ]
  },
  {
   "cell_type": "code",
   "execution_count": null,
   "metadata": {
    "ExecuteTime": {
     "end_time": "2020-12-02T04:21:08.271463Z",
     "start_time": "2020-12-02T04:20:58.457Z"
    }
   },
   "outputs": [],
   "source": [
    "df.tail(n_per_in)"
   ]
  },
  {
   "cell_type": "code",
   "execution_count": null,
   "metadata": {
    "ExecuteTime": {
     "end_time": "2020-12-02T04:21:08.278445Z",
     "start_time": "2020-12-02T04:20:59.415Z"
    }
   },
   "outputs": [],
   "source": [
    "np.array(df.tail(n_per_in)).reshape(1, n_per_in, n_features)"
   ]
  },
  {
   "cell_type": "code",
   "execution_count": 41,
   "metadata": {
    "ExecuteTime": {
     "end_time": "2020-12-02T05:59:54.513564Z",
     "start_time": "2020-12-02T05:59:54.507574Z"
    }
   },
   "outputs": [],
   "source": [
    "def predict(indexes, model_path):\n",
    "    latest_period = 60\n",
    "    from datetime import timedelta\n",
    "    from sklearn.preprocessing import RobustScaler\n",
    "    from tensorflow.keras.models import load_model\n",
    "    import pandas as pd\n",
    "    import numpy as np\n",
    "    import yfinance as yf\n",
    "    from datetime import datetime\n",
    "    \n",
    "    df_custom = yf.download(indexes, start=\"2016-01-01\", end=datetime.today().strftime('%Y-%m-%d'))\n",
    "    df_custom = df_custom.reset_index()[['Date','Close']]\n",
    "    \n",
    "    scaler = RobustScaler()\n",
    "    scaled_close = scaler.fit_transform(df_custom[['Close']].values)\n",
    "    df_custom['Close'] = scaled_close\n",
    "    df_custom = df_custom.set_index('Date')\n",
    "\n",
    "    model = load_model(model_path)\n",
    "\n",
    "    # Predicting off of the most recent days from the original DF\n",
    "    yhat = model.predict(np.array(df_custom['Close'].tail(latest_period)).reshape(1, latest_period, 1))\n",
    "\n",
    "    # Transforming the predicted values back to their original format\n",
    "    yhat = scaler.inverse_transform(yhat)[0]\n",
    "\n",
    "    # Creating a DF of the predicted prices\n",
    "    preds = pd.DataFrame(yhat, \n",
    "                         index=pd.date_range(start=df_custom.index[-1]+timedelta(days=1), \n",
    "                                             periods=len(yhat), \n",
    "                                             freq=\"B\"), \n",
    "                         columns=[df_custom.columns[0]]).reset_index()\n",
    "    preds = preds.rename(columns={'index':'Date'})\n",
    "    save_path = \"./predicted_data/\"+indexes+\".csv\"\n",
    "    preds.to_csv(\"./predicted_data/USDIDR=X.csv\",index=None)\n",
    "    return preds"
   ]
  },
  {
   "cell_type": "code",
   "execution_count": 42,
   "metadata": {
    "ExecuteTime": {
     "end_time": "2020-12-02T06:00:16.650587Z",
     "start_time": "2020-12-02T05:59:55.669854Z"
    }
   },
   "outputs": [
    {
     "name": "stdout",
     "output_type": "stream",
     "text": [
      "[*********************100%***********************]  1 of 1 completed\n"
     ]
    }
   ],
   "source": [
    "#n_per_in = 180\n",
    "new_df = predict('USDIDR=X', './model_cp')"
   ]
  },
  {
   "cell_type": "code",
   "execution_count": 49,
   "metadata": {
    "ExecuteTime": {
     "end_time": "2020-12-02T06:31:02.886198Z",
     "start_time": "2020-12-02T06:31:02.879240Z"
    }
   },
   "outputs": [
    {
     "name": "stdout",
     "output_type": "stream",
     "text": [
      "<class 'pandas.core.frame.DataFrame'>\n",
      "RangeIndex: 1281 entries, 0 to 1280\n",
      "Data columns (total 2 columns):\n",
      " #   Column  Non-Null Count  Dtype         \n",
      "---  ------  --------------  -----         \n",
      " 0   Date    1281 non-null   datetime64[ns]\n",
      " 1   Close   1281 non-null   float64       \n",
      "dtypes: datetime64[ns](1), float64(1)\n",
      "memory usage: 20.1 KB\n"
     ]
    }
   ],
   "source": [
    "df.info()"
   ]
  }
 ],
 "metadata": {
  "kernelspec": {
   "display_name": "Python 3",
   "language": "python",
   "name": "python3"
  },
  "language_info": {
   "codemirror_mode": {
    "name": "ipython",
    "version": 3
   },
   "file_extension": ".py",
   "mimetype": "text/x-python",
   "name": "python",
   "nbconvert_exporter": "python",
   "pygments_lexer": "ipython3",
   "version": "3.7.6"
  },
  "toc": {
   "base_numbering": 1,
   "nav_menu": {},
   "number_sections": true,
   "sideBar": true,
   "skip_h1_title": false,
   "title_cell": "Table of Contents",
   "title_sidebar": "Contents",
   "toc_cell": false,
   "toc_position": {},
   "toc_section_display": true,
   "toc_window_display": false
  },
  "varInspector": {
   "cols": {
    "lenName": 16,
    "lenType": 16,
    "lenVar": 40
   },
   "kernels_config": {
    "python": {
     "delete_cmd_postfix": "",
     "delete_cmd_prefix": "del ",
     "library": "var_list.py",
     "varRefreshCmd": "print(var_dic_list())"
    },
    "r": {
     "delete_cmd_postfix": ") ",
     "delete_cmd_prefix": "rm(",
     "library": "var_list.r",
     "varRefreshCmd": "cat(var_dic_list()) "
    }
   },
   "types_to_exclude": [
    "module",
    "function",
    "builtin_function_or_method",
    "instance",
    "_Feature"
   ],
   "window_display": false
  }
 },
 "nbformat": 4,
 "nbformat_minor": 4
}
